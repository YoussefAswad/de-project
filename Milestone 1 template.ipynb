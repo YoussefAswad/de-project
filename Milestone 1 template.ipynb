{
 "cells": [
  {
   "cell_type": "markdown",
   "metadata": {},
   "source": [
    "# Milestone 1 - EDA and Preprocessing data "
   ]
  },
  {
   "cell_type": "markdown",
   "metadata": {},
   "source": [
    "- Load dataset\n",
    "- Explore the dataset and ask atleast 5 questions to give you a better understanding of the data provided to you. \n",
    "- Visualise the answer to these 5 questions.\n",
    "- Cleaing the data\n",
    "- Observe missing data and comment on why you believe it is missing(MCAR,MAR or MNAR) \n",
    "- Observe duplicate data\n",
    "- Observe outliers\n",
    "- After observing outliers,missing data and duplicates, handle any unclean data.\n",
    "- With every change you are making to the data you need to comment on why you used this technique and how has it affected the data(by both showing the change in the data i.e change in number of rows/columns,change in distrubution, etc and commenting on it).\n",
    "- Data transformation and feature engineering\n",
    "- Add a new column named 'Week number' and discretisize the data into weeks according to the dates.Tip: Change the datatype of the date feature to datetime type instead of object.\n",
    "- Encode any categorical feature(s) and comment on why you used this technique and how the data has changed.\n",
    "- Identify feature(s) which need normalisation and show your reasoning.Then choose a technique to normalise the feature(s) and comment on why you chose this technique.\n",
    "- Add atleast two more columns which adds more info to the dataset by evaluating specific feature(s). I.E( Column indicating whether the accident was on a weekend or not). \n",
    "- For any imputation with arbitrary values or encoding done, you have to store what the value imputed or encoded represents in a new csv file. I.e if you impute a missing value with -1 or 100 you must have a csv file illustrating what -1 and 100 means. Or for instance, if you encode cities with 1,2,3,4,etc what each number represents must be shown in the new csv file.\n",
    "- Load the new dataset into a csv file.\n",
    "- **Extremely Important note** - Your code should be as generic as possible and not hard-coded and be able to work with various datasets. Any hard-coded solutions will be severely penalised.\n",
    "- Bonus: Load the dataset as a parquet file instead of a csv file(Parquet file is a compressed file format)."
   ]
  },
  {
   "cell_type": "markdown",
   "metadata": {},
   "source": [
    "# 1 - Extraction"
   ]
  },
  {
   "cell_type": "code",
   "execution_count": 38,
   "metadata": {},
   "outputs": [],
   "source": [
    "import matplotlib.pyplot as plt\n",
    "import seaborn as sns\n",
    "import pandas as pd\n",
    "import numpy as np\n",
    "\n"
   ]
  },
  {
   "cell_type": "code",
   "execution_count": 46,
   "metadata": {},
   "outputs": [
    {
     "name": "stderr",
     "output_type": "stream",
     "text": [
      "/tmp/ipykernel_9355/3239739217.py:3: DtypeWarning: Columns (14,23,24) have mixed types. Specify dtype option on import or set low_memory=False.\n",
      "  df_accidents_1980 = pd.read_csv(dataset, index_col=None)\n"
     ]
    },
    {
     "data": {
      "text/html": [
       "<div>\n",
       "<style scoped>\n",
       "    .dataframe tbody tr th:only-of-type {\n",
       "        vertical-align: middle;\n",
       "    }\n",
       "\n",
       "    .dataframe tbody tr th {\n",
       "        vertical-align: top;\n",
       "    }\n",
       "\n",
       "    .dataframe thead th {\n",
       "        text-align: right;\n",
       "    }\n",
       "</style>\n",
       "<table border=\"1\" class=\"dataframe\">\n",
       "  <thead>\n",
       "    <tr style=\"text-align: right;\">\n",
       "      <th></th>\n",
       "      <th>accident_index</th>\n",
       "      <th>accident_year</th>\n",
       "      <th>accident_reference</th>\n",
       "      <th>location_easting_osgr</th>\n",
       "      <th>location_northing_osgr</th>\n",
       "      <th>longitude</th>\n",
       "      <th>latitude</th>\n",
       "      <th>police_force</th>\n",
       "      <th>accident_severity</th>\n",
       "      <th>number_of_vehicles</th>\n",
       "      <th>number_of_casualties</th>\n",
       "      <th>date</th>\n",
       "      <th>day_of_week</th>\n",
       "      <th>time</th>\n",
       "      <th>local_authority_district</th>\n",
       "      <th>local_authority_ons_district</th>\n",
       "      <th>local_authority_highway</th>\n",
       "      <th>first_road_class</th>\n",
       "      <th>first_road_number</th>\n",
       "      <th>road_type</th>\n",
       "      <th>speed_limit</th>\n",
       "      <th>junction_detail</th>\n",
       "      <th>junction_control</th>\n",
       "      <th>second_road_class</th>\n",
       "      <th>second_road_number</th>\n",
       "      <th>pedestrian_crossing_human_control</th>\n",
       "      <th>pedestrian_crossing_physical_facilities</th>\n",
       "      <th>light_conditions</th>\n",
       "      <th>weather_conditions</th>\n",
       "      <th>road_surface_conditions</th>\n",
       "      <th>special_conditions_at_site</th>\n",
       "      <th>carriageway_hazards</th>\n",
       "      <th>urban_or_rural_area</th>\n",
       "      <th>did_police_officer_attend_scene_of_accident</th>\n",
       "      <th>trunk_road_flag</th>\n",
       "      <th>lsoa_of_accident_location</th>\n",
       "    </tr>\n",
       "  </thead>\n",
       "  <tbody>\n",
       "    <tr>\n",
       "      <th>0</th>\n",
       "      <td>19800113MKA18</td>\n",
       "      <td>1980</td>\n",
       "      <td>0113MKA18</td>\n",
       "      <td>288680.0</td>\n",
       "      <td>118000.0</td>\n",
       "      <td>NaN</td>\n",
       "      <td>NaN</td>\n",
       "      <td>Metropolitan Police</td>\n",
       "      <td>Slight</td>\n",
       "      <td>1</td>\n",
       "      <td>1</td>\n",
       "      <td>03/09/1980</td>\n",
       "      <td>Wednesday</td>\n",
       "      <td>12:50</td>\n",
       "      <td>Westminster</td>\n",
       "      <td>-1</td>\n",
       "      <td>-1</td>\n",
       "      <td>A</td>\n",
       "      <td>40.0</td>\n",
       "      <td>Single carriageway</td>\n",
       "      <td>30.0</td>\n",
       "      <td>Crossroads</td>\n",
       "      <td>Auto traffic signal</td>\n",
       "      <td>-1</td>\n",
       "      <td>NaN</td>\n",
       "      <td>Data missing or out of range</td>\n",
       "      <td>Data missing or out of range</td>\n",
       "      <td>Daylight</td>\n",
       "      <td>Other</td>\n",
       "      <td>Dry</td>\n",
       "      <td>Data missing or out of range</td>\n",
       "      <td>None</td>\n",
       "      <td>Data missing or out of range</td>\n",
       "      <td>Data missing or out of range</td>\n",
       "      <td>Data missing or out of range</td>\n",
       "      <td>-1</td>\n",
       "    </tr>\n",
       "    <tr>\n",
       "      <th>1</th>\n",
       "      <td>19800113MKB18</td>\n",
       "      <td>1980</td>\n",
       "      <td>0113MKB18</td>\n",
       "      <td>280670.0</td>\n",
       "      <td>978000.0</td>\n",
       "      <td>NaN</td>\n",
       "      <td>NaN</td>\n",
       "      <td>Metropolitan Police</td>\n",
       "      <td>Slight</td>\n",
       "      <td>3</td>\n",
       "      <td>1</td>\n",
       "      <td>03/09/1980</td>\n",
       "      <td>Wednesday</td>\n",
       "      <td>12:50</td>\n",
       "      <td>Westminster</td>\n",
       "      <td>-1</td>\n",
       "      <td>-1</td>\n",
       "      <td>A</td>\n",
       "      <td>4.0</td>\n",
       "      <td>Dual carriageway</td>\n",
       "      <td>30.0</td>\n",
       "      <td>Not at junction or within 20 metres</td>\n",
       "      <td>Data missing or out of range</td>\n",
       "      <td>-1</td>\n",
       "      <td>NaN</td>\n",
       "      <td>Data missing or out of range</td>\n",
       "      <td>Data missing or out of range</td>\n",
       "      <td>Daylight</td>\n",
       "      <td>Other</td>\n",
       "      <td>Dry</td>\n",
       "      <td>Data missing or out of range</td>\n",
       "      <td>None</td>\n",
       "      <td>Data missing or out of range</td>\n",
       "      <td>Data missing or out of range</td>\n",
       "      <td>Data missing or out of range</td>\n",
       "      <td>-1</td>\n",
       "    </tr>\n",
       "    <tr>\n",
       "      <th>2</th>\n",
       "      <td>19800114MAA22</td>\n",
       "      <td>1980</td>\n",
       "      <td>0114MAA22</td>\n",
       "      <td>266880.0</td>\n",
       "      <td>562000.0</td>\n",
       "      <td>NaN</td>\n",
       "      <td>NaN</td>\n",
       "      <td>Metropolitan Police</td>\n",
       "      <td>Slight</td>\n",
       "      <td>2</td>\n",
       "      <td>2</td>\n",
       "      <td>04/09/1980</td>\n",
       "      <td>Thursday</td>\n",
       "      <td>12:00</td>\n",
       "      <td>Camden</td>\n",
       "      <td>-1</td>\n",
       "      <td>-1</td>\n",
       "      <td>A</td>\n",
       "      <td>502.0</td>\n",
       "      <td>NaN</td>\n",
       "      <td>30.0</td>\n",
       "      <td>T or staggered junction</td>\n",
       "      <td>Give way or uncontrolled</td>\n",
       "      <td>-1</td>\n",
       "      <td>NaN</td>\n",
       "      <td>Data missing or out of range</td>\n",
       "      <td>Data missing or out of range</td>\n",
       "      <td>Daylight</td>\n",
       "      <td>Other</td>\n",
       "      <td>Dry</td>\n",
       "      <td>Data missing or out of range</td>\n",
       "      <td>None</td>\n",
       "      <td>Data missing or out of range</td>\n",
       "      <td>Data missing or out of range</td>\n",
       "      <td>Data missing or out of range</td>\n",
       "      <td>-1</td>\n",
       "    </tr>\n",
       "    <tr>\n",
       "      <th>3</th>\n",
       "      <td>19800114MAB22</td>\n",
       "      <td>1980</td>\n",
       "      <td>0114MAB22</td>\n",
       "      <td>290780.0</td>\n",
       "      <td>442000.0</td>\n",
       "      <td>NaN</td>\n",
       "      <td>NaN</td>\n",
       "      <td>Metropolitan Police</td>\n",
       "      <td>Slight</td>\n",
       "      <td>1</td>\n",
       "      <td>1</td>\n",
       "      <td>04/09/1980</td>\n",
       "      <td>Thursday</td>\n",
       "      <td>12:00</td>\n",
       "      <td>Camden</td>\n",
       "      <td>-1</td>\n",
       "      <td>-1</td>\n",
       "      <td>A</td>\n",
       "      <td>5202.0</td>\n",
       "      <td>Single carriageway</td>\n",
       "      <td>30.0</td>\n",
       "      <td>T or staggered junction</td>\n",
       "      <td>Give way or uncontrolled</td>\n",
       "      <td>-1</td>\n",
       "      <td>NaN</td>\n",
       "      <td>None within 50 metres</td>\n",
       "      <td>Zebra</td>\n",
       "      <td>Daylight</td>\n",
       "      <td>Other</td>\n",
       "      <td>Dry</td>\n",
       "      <td>Data missing or out of range</td>\n",
       "      <td>None</td>\n",
       "      <td>Data missing or out of range</td>\n",
       "      <td>Data missing or out of range</td>\n",
       "      <td>Data missing or out of range</td>\n",
       "      <td>-1</td>\n",
       "    </tr>\n",
       "    <tr>\n",
       "      <th>4</th>\n",
       "      <td>19800116UGA99</td>\n",
       "      <td>1980</td>\n",
       "      <td>0116UGA99</td>\n",
       "      <td>307670.0</td>\n",
       "      <td>459000.0</td>\n",
       "      <td>NaN</td>\n",
       "      <td>NaN</td>\n",
       "      <td>Metropolitan Police</td>\n",
       "      <td>Serious</td>\n",
       "      <td>1</td>\n",
       "      <td>1</td>\n",
       "      <td>06/09/1980</td>\n",
       "      <td>Saturday</td>\n",
       "      <td>20:30</td>\n",
       "      <td>Lambeth</td>\n",
       "      <td>-1</td>\n",
       "      <td>-1</td>\n",
       "      <td>A</td>\n",
       "      <td>23.0</td>\n",
       "      <td>NaN</td>\n",
       "      <td>30.0</td>\n",
       "      <td>Crossroads</td>\n",
       "      <td>Auto traffic signal</td>\n",
       "      <td>-1</td>\n",
       "      <td>NaN</td>\n",
       "      <td>Data missing or out of range</td>\n",
       "      <td>Data missing or out of range</td>\n",
       "      <td>Darkness - lights lit</td>\n",
       "      <td>Other</td>\n",
       "      <td>Dry</td>\n",
       "      <td>Data missing or out of range</td>\n",
       "      <td>None</td>\n",
       "      <td>Data missing or out of range</td>\n",
       "      <td>Data missing or out of range</td>\n",
       "      <td>Data missing or out of range</td>\n",
       "      <td>-1</td>\n",
       "    </tr>\n",
       "  </tbody>\n",
       "</table>\n",
       "</div>"
      ],
      "text/plain": [
       "  accident_index  accident_year accident_reference  location_easting_osgr  \\\n",
       "0  19800113MKA18           1980          0113MKA18               288680.0   \n",
       "1  19800113MKB18           1980          0113MKB18               280670.0   \n",
       "2  19800114MAA22           1980          0114MAA22               266880.0   \n",
       "3  19800114MAB22           1980          0114MAB22               290780.0   \n",
       "4  19800116UGA99           1980          0116UGA99               307670.0   \n",
       "\n",
       "   location_northing_osgr  longitude  latitude         police_force  \\\n",
       "0                118000.0        NaN       NaN  Metropolitan Police   \n",
       "1                978000.0        NaN       NaN  Metropolitan Police   \n",
       "2                562000.0        NaN       NaN  Metropolitan Police   \n",
       "3                442000.0        NaN       NaN  Metropolitan Police   \n",
       "4                459000.0        NaN       NaN  Metropolitan Police   \n",
       "\n",
       "  accident_severity  number_of_vehicles  number_of_casualties        date  \\\n",
       "0            Slight                   1                     1  03/09/1980   \n",
       "1            Slight                   3                     1  03/09/1980   \n",
       "2            Slight                   2                     2  04/09/1980   \n",
       "3            Slight                   1                     1  04/09/1980   \n",
       "4           Serious                   1                     1  06/09/1980   \n",
       "\n",
       "  day_of_week   time local_authority_district  local_authority_ons_district  \\\n",
       "0   Wednesday  12:50              Westminster                            -1   \n",
       "1   Wednesday  12:50              Westminster                            -1   \n",
       "2    Thursday  12:00                   Camden                            -1   \n",
       "3    Thursday  12:00                   Camden                            -1   \n",
       "4    Saturday  20:30                  Lambeth                            -1   \n",
       "\n",
       "   local_authority_highway first_road_class first_road_number  \\\n",
       "0                       -1                A              40.0   \n",
       "1                       -1                A               4.0   \n",
       "2                       -1                A             502.0   \n",
       "3                       -1                A            5202.0   \n",
       "4                       -1                A              23.0   \n",
       "\n",
       "            road_type  speed_limit                      junction_detail  \\\n",
       "0  Single carriageway         30.0                           Crossroads   \n",
       "1    Dual carriageway         30.0  Not at junction or within 20 metres   \n",
       "2                 NaN         30.0              T or staggered junction   \n",
       "3  Single carriageway         30.0              T or staggered junction   \n",
       "4                 NaN         30.0                           Crossroads   \n",
       "\n",
       "               junction_control second_road_class second_road_number  \\\n",
       "0           Auto traffic signal                -1                NaN   \n",
       "1  Data missing or out of range                -1                NaN   \n",
       "2      Give way or uncontrolled                -1                NaN   \n",
       "3      Give way or uncontrolled                -1                NaN   \n",
       "4           Auto traffic signal                -1                NaN   \n",
       "\n",
       "  pedestrian_crossing_human_control pedestrian_crossing_physical_facilities  \\\n",
       "0      Data missing or out of range            Data missing or out of range   \n",
       "1      Data missing or out of range            Data missing or out of range   \n",
       "2      Data missing or out of range            Data missing or out of range   \n",
       "3            None within 50 metres                                    Zebra   \n",
       "4      Data missing or out of range            Data missing or out of range   \n",
       "\n",
       "        light_conditions weather_conditions road_surface_conditions  \\\n",
       "0               Daylight              Other                     Dry   \n",
       "1               Daylight              Other                     Dry   \n",
       "2               Daylight              Other                     Dry   \n",
       "3               Daylight              Other                     Dry   \n",
       "4  Darkness - lights lit              Other                     Dry   \n",
       "\n",
       "     special_conditions_at_site carriageway_hazards  \\\n",
       "0  Data missing or out of range                None   \n",
       "1  Data missing or out of range                None   \n",
       "2  Data missing or out of range                None   \n",
       "3  Data missing or out of range                None   \n",
       "4  Data missing or out of range                None   \n",
       "\n",
       "            urban_or_rural_area did_police_officer_attend_scene_of_accident  \\\n",
       "0  Data missing or out of range                Data missing or out of range   \n",
       "1  Data missing or out of range                Data missing or out of range   \n",
       "2  Data missing or out of range                Data missing or out of range   \n",
       "3  Data missing or out of range                Data missing or out of range   \n",
       "4  Data missing or out of range                Data missing or out of range   \n",
       "\n",
       "                trunk_road_flag  lsoa_of_accident_location  \n",
       "0  Data missing or out of range                         -1  \n",
       "1  Data missing or out of range                         -1  \n",
       "2  Data missing or out of range                         -1  \n",
       "3  Data missing or out of range                         -1  \n",
       "4  Data missing or out of range                         -1  "
      ]
     },
     "execution_count": 46,
     "metadata": {},
     "output_type": "execute_result"
    }
   ],
   "source": [
    "pd.set_option('display.max_columns', None)\n",
    "dataset = 'dataset/1980_Accidents_UK.csv'\n",
    "df_accidents_1980 = pd.read_csv(dataset, index_col=None)\n",
    "df_accidents_1980.head()\n"
   ]
  },
  {
   "cell_type": "code",
   "execution_count": null,
   "metadata": {},
   "outputs": [],
   "source": []
  },
  {
   "cell_type": "markdown",
   "metadata": {},
   "source": [
    "# 2- EDA"
   ]
  },
  {
   "cell_type": "markdown",
   "metadata": {},
   "source": [
    "**Does accident_index have uniqe values and what is it's relatiion to accident_year and accident_refrence?**"
   ]
  },
  {
   "cell_type": "code",
   "execution_count": 57,
   "metadata": {},
   "outputs": [
    {
     "data": {
      "text/plain": [
       "('Number of Unique accident_index: 250958',\n",
       " 'Number of Unique accident_refrence: 250958',\n",
       " 'Number of total entries:  250958')"
      ]
     },
     "execution_count": 57,
     "metadata": {},
     "output_type": "execute_result"
    }
   ],
   "source": [
    "accident_index_unique_counts = len(df_accidents_1980[\"accident_index\"].unique())\n",
    "accident_refernce_unique_counts = len(df_accidents_1980[\"accident_reference\"].unique())\n",
    "number_of_entries = len(df_accidents_1980)\n",
    "\"Number of Unique accident_index: \" + \\\n",
    "    str(accident_index_unique_counts), \"Number of Unique accident_refrence: \" + str(accident_refernce_unique_counts), \"Number of total entries:  \" + str(number_of_entries)\n"
   ]
  },
  {
   "cell_type": "code",
   "execution_count": 66,
   "metadata": {},
   "outputs": [
    {
     "data": {
      "text/plain": [
       "array([1980])"
      ]
     },
     "execution_count": 66,
     "metadata": {},
     "output_type": "execute_result"
    }
   ],
   "source": [
    "(np.equal((df_accidents_1980[\"accident_year\"].astype(str) +\n",
    "          df_accidents_1980[\"accident_reference\"]), df_accidents_1980[\"accident_index\"])).all()\n",
    "\n",
    "df_accidents_1980[\"accident_year\"].unique()"
   ]
  },
  {
   "cell_type": "code",
   "execution_count": null,
   "metadata": {},
   "outputs": [],
   "source": []
  },
  {
   "cell_type": "code",
   "execution_count": null,
   "metadata": {},
   "outputs": [],
   "source": []
  },
  {
   "cell_type": "code",
   "execution_count": null,
   "metadata": {},
   "outputs": [],
   "source": []
  },
  {
   "cell_type": "markdown",
   "metadata": {},
   "source": [
    "# 3 - Cleaning Data"
   ]
  },
  {
   "cell_type": "markdown",
   "metadata": {},
   "source": [
    "## Observing Missing and duplicate Data"
   ]
  },
  {
   "cell_type": "code",
   "execution_count": null,
   "metadata": {},
   "outputs": [],
   "source": []
  },
  {
   "cell_type": "code",
   "execution_count": null,
   "metadata": {},
   "outputs": [],
   "source": []
  },
  {
   "cell_type": "code",
   "execution_count": null,
   "metadata": {},
   "outputs": [],
   "source": []
  },
  {
   "cell_type": "markdown",
   "metadata": {},
   "source": [
    "## Handling Missing data"
   ]
  },
  {
   "cell_type": "code",
   "execution_count": null,
   "metadata": {},
   "outputs": [],
   "source": []
  },
  {
   "cell_type": "code",
   "execution_count": null,
   "metadata": {},
   "outputs": [],
   "source": []
  },
  {
   "cell_type": "code",
   "execution_count": null,
   "metadata": {},
   "outputs": [],
   "source": []
  },
  {
   "cell_type": "markdown",
   "metadata": {},
   "source": [
    "## Findings and conclusions"
   ]
  },
  {
   "cell_type": "code",
   "execution_count": null,
   "metadata": {},
   "outputs": [],
   "source": []
  },
  {
   "cell_type": "code",
   "execution_count": null,
   "metadata": {},
   "outputs": [],
   "source": []
  },
  {
   "cell_type": "markdown",
   "metadata": {},
   "source": [
    "## Observing outliers"
   ]
  },
  {
   "cell_type": "code",
   "execution_count": null,
   "metadata": {},
   "outputs": [],
   "source": []
  },
  {
   "cell_type": "code",
   "execution_count": null,
   "metadata": {},
   "outputs": [],
   "source": []
  },
  {
   "cell_type": "code",
   "execution_count": null,
   "metadata": {},
   "outputs": [],
   "source": []
  },
  {
   "cell_type": "markdown",
   "metadata": {},
   "source": [
    "## Handling outliers"
   ]
  },
  {
   "cell_type": "code",
   "execution_count": null,
   "metadata": {},
   "outputs": [],
   "source": []
  },
  {
   "cell_type": "code",
   "execution_count": null,
   "metadata": {},
   "outputs": [],
   "source": []
  },
  {
   "cell_type": "code",
   "execution_count": null,
   "metadata": {},
   "outputs": [],
   "source": []
  },
  {
   "cell_type": "markdown",
   "metadata": {},
   "source": [
    "## Findings and conclusions"
   ]
  },
  {
   "cell_type": "code",
   "execution_count": null,
   "metadata": {},
   "outputs": [],
   "source": []
  },
  {
   "cell_type": "code",
   "execution_count": null,
   "metadata": {},
   "outputs": [],
   "source": []
  },
  {
   "cell_type": "code",
   "execution_count": null,
   "metadata": {},
   "outputs": [],
   "source": []
  },
  {
   "cell_type": "markdown",
   "metadata": {},
   "source": [
    "# 4 - Data transformation"
   ]
  },
  {
   "cell_type": "markdown",
   "metadata": {},
   "source": [
    "## 4.1 - Discretization"
   ]
  },
  {
   "cell_type": "code",
   "execution_count": null,
   "metadata": {},
   "outputs": [],
   "source": []
  },
  {
   "cell_type": "code",
   "execution_count": null,
   "metadata": {},
   "outputs": [],
   "source": []
  },
  {
   "cell_type": "code",
   "execution_count": null,
   "metadata": {},
   "outputs": [],
   "source": []
  },
  {
   "cell_type": "markdown",
   "metadata": {},
   "source": [
    "## 4.11 - Findings and conclusions"
   ]
  },
  {
   "cell_type": "code",
   "execution_count": null,
   "metadata": {},
   "outputs": [],
   "source": []
  },
  {
   "cell_type": "code",
   "execution_count": null,
   "metadata": {},
   "outputs": [],
   "source": []
  },
  {
   "cell_type": "code",
   "execution_count": null,
   "metadata": {},
   "outputs": [],
   "source": []
  },
  {
   "cell_type": "markdown",
   "metadata": {},
   "source": [
    "## 4.2 - Encoding"
   ]
  },
  {
   "cell_type": "code",
   "execution_count": null,
   "metadata": {},
   "outputs": [],
   "source": []
  },
  {
   "cell_type": "code",
   "execution_count": null,
   "metadata": {},
   "outputs": [],
   "source": []
  },
  {
   "cell_type": "code",
   "execution_count": null,
   "metadata": {},
   "outputs": [],
   "source": []
  },
  {
   "cell_type": "markdown",
   "metadata": {},
   "source": [
    "## 4.22 - Findings and conlcusions"
   ]
  },
  {
   "cell_type": "code",
   "execution_count": null,
   "metadata": {},
   "outputs": [],
   "source": []
  },
  {
   "cell_type": "code",
   "execution_count": null,
   "metadata": {},
   "outputs": [],
   "source": []
  },
  {
   "cell_type": "code",
   "execution_count": null,
   "metadata": {},
   "outputs": [],
   "source": []
  },
  {
   "cell_type": "markdown",
   "metadata": {},
   "source": [
    "## 4.3 - Normalisation "
   ]
  },
  {
   "cell_type": "code",
   "execution_count": null,
   "metadata": {},
   "outputs": [],
   "source": []
  },
  {
   "cell_type": "code",
   "execution_count": null,
   "metadata": {},
   "outputs": [],
   "source": []
  },
  {
   "cell_type": "code",
   "execution_count": null,
   "metadata": {},
   "outputs": [],
   "source": []
  },
  {
   "cell_type": "markdown",
   "metadata": {},
   "source": [
    "## 4.31 - Findings and conclusions"
   ]
  },
  {
   "cell_type": "code",
   "execution_count": null,
   "metadata": {},
   "outputs": [],
   "source": []
  },
  {
   "cell_type": "code",
   "execution_count": null,
   "metadata": {},
   "outputs": [],
   "source": []
  },
  {
   "cell_type": "code",
   "execution_count": null,
   "metadata": {},
   "outputs": [],
   "source": []
  },
  {
   "cell_type": "markdown",
   "metadata": {},
   "source": [
    "## 4.4 - Adding more columns"
   ]
  },
  {
   "cell_type": "code",
   "execution_count": null,
   "metadata": {},
   "outputs": [],
   "source": []
  },
  {
   "cell_type": "code",
   "execution_count": null,
   "metadata": {},
   "outputs": [],
   "source": []
  },
  {
   "cell_type": "code",
   "execution_count": null,
   "metadata": {},
   "outputs": [],
   "source": []
  },
  {
   "cell_type": "markdown",
   "metadata": {},
   "source": [
    "## 4.41 - Findings and concluisons"
   ]
  },
  {
   "cell_type": "code",
   "execution_count": null,
   "metadata": {},
   "outputs": [],
   "source": []
  },
  {
   "cell_type": "code",
   "execution_count": null,
   "metadata": {},
   "outputs": [],
   "source": []
  },
  {
   "cell_type": "markdown",
   "metadata": {},
   "source": [
    "## 4.5 - Csv file for lookup"
   ]
  },
  {
   "cell_type": "code",
   "execution_count": null,
   "metadata": {},
   "outputs": [],
   "source": []
  },
  {
   "cell_type": "code",
   "execution_count": null,
   "metadata": {},
   "outputs": [],
   "source": []
  },
  {
   "cell_type": "code",
   "execution_count": null,
   "metadata": {},
   "outputs": [],
   "source": []
  },
  {
   "cell_type": "markdown",
   "metadata": {},
   "source": [
    "## 5- Exporting the dataframe to a csv file or parquet"
   ]
  },
  {
   "cell_type": "code",
   "execution_count": null,
   "metadata": {},
   "outputs": [],
   "source": []
  },
  {
   "cell_type": "code",
   "execution_count": null,
   "metadata": {},
   "outputs": [],
   "source": []
  }
 ],
 "metadata": {
  "kernelspec": {
   "display_name": "Python 3.10.8 64-bit",
   "language": "python",
   "name": "python3"
  },
  "language_info": {
   "codemirror_mode": {
    "name": "ipython",
    "version": 3
   },
   "file_extension": ".py",
   "mimetype": "text/x-python",
   "name": "python",
   "nbconvert_exporter": "python",
   "pygments_lexer": "ipython3",
   "version": "3.10.8"
  },
  "vscode": {
   "interpreter": {
    "hash": "e7370f93d1d0cde622a1f8e1c04877d8463912d04d973331ad4851f04de6915a"
   }
  }
 },
 "nbformat": 4,
 "nbformat_minor": 4
}
